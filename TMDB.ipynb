{
 "cells": [
  {
   "cell_type": "code",
   "execution_count": 1,
   "id": "dedb66f8",
   "metadata": {},
   "outputs": [],
   "source": [
    "import requests"
   ]
  },
  {
   "cell_type": "code",
   "execution_count": 3,
   "id": "17affb8a",
   "metadata": {},
   "outputs": [],
   "source": [
    "data = {\"api_key\":\"423d2004dcf9da4c46b4a9f84c5f84a0\"}\n",
    "data_1 = {\"request_token\": \"d8a2c3b14c3999f15eebfe9ecbb6be4f28793fc9\", \n",
    "           \"api_key\" :\"423d2004dcf9da4c46b4a9f84c5f84a0\"}"
   ]
  },
  {
   "cell_type": "code",
   "execution_count": 15,
   "id": "7959f55b",
   "metadata": {},
   "outputs": [],
   "source": [
    "#     \"success\": true,\n",
    "#  \"expires_at\": \"2023-02-12 02:43:40 UTC\",\n",
    "#  \"request_token\": \"d8a2c3b14c3999f15eebfe9ecbb6be4f28793fc9\""
   ]
  },
  {
   "cell_type": "code",
   "execution_count": 7,
   "id": "262a6f75",
   "metadata": {},
   "outputs": [
    {
     "name": "stdout",
     "output_type": "stream",
     "text": [
      "401\n",
      "https://api.themoviedb.org/3/authentication/session/new?api_key=423d2004dcf9da4c46b4a9f84c5f84a0&request_token=d8a2c3b14c3999f15eebfe9ecbb6be4f28793fc9\n"
     ]
    }
   ],
   "source": [
    "r = requests.post(\"https://api.themoviedb.org/3/authentication/session/new?api_key=423d2004dcf9da4c46b4a9f84c5f84a0\",params = {\"request_token\": \"d8a2c3b14c3999f15eebfe9ecbb6be4f28793fc9\"})\n",
    "print(r.status_code)\n",
    "print(r.url)"
   ]
  },
  {
   "cell_type": "code",
   "execution_count": 19,
   "id": "d60c78ec",
   "metadata": {},
   "outputs": [
    {
     "name": "stdout",
     "output_type": "stream",
     "text": [
      "534780\n"
     ]
    }
   ],
   "source": [
    "r = requests.get(\"https://api.themoviedb.org/3/search/movie?api_key=423d2004dcf9da4c46b4a9f84c5f84a0\",\n",
    "                params= {\"apip_key\":\"423d2004dcf9da4c46b4a9f84c5f84a0\",\"query\":\"Andhadhun\"})\n",
    "python = r.json()\n",
    "print(python[\"results\"][0][\"id\"])"
   ]
  },
  {
   "cell_type": "code",
   "execution_count": 22,
   "id": "7cb36885",
   "metadata": {},
   "outputs": [
    {
     "name": "stdout",
     "output_type": "stream",
     "text": [
      "420\n"
     ]
    }
   ],
   "source": [
    "r = requests.get(\"https://api.themoviedb.org/3/search/company?api_key=423d2004dcf9da4c46b4a9f84c5f84a0\",\n",
    "                params= {\"apip_key\":\"423d2004dcf9da4c46b4a9f84c5f84a0\",\"query\":\"Marvel Studios\"})\n",
    "python = r.json()\n",
    "print(python[\"results\"][0][\"id\"])"
   ]
  },
  {
   "cell_type": "code",
   "execution_count": 27,
   "id": "3500e9f3",
   "metadata": {},
   "outputs": [
    {
     "name": "stdout",
     "output_type": "stream",
     "text": [
      "2018 7.978\n"
     ]
    }
   ],
   "source": [
    "r = requests.get(\"https://api.themoviedb.org/3/search/movie?api_key=423d2004dcf9da4c46b4a9f84c5f84a0\",\n",
    "                params= {\"apip_key\":\"423d2004dcf9da4c46b4a9f84c5f84a0\",\"query\":\"3 Idiots\"})\n",
    "python = r.json()\n",
    "use = python[\"results\"][0]\n",
    "print(use[\"vote_count\"],use[\"vote_average\"])"
   ]
  },
  {
   "cell_type": "code",
   "execution_count": 89,
   "id": "3c7b09da",
   "metadata": {},
   "outputs": [
    {
     "name": "stdout",
     "output_type": "stream",
     "text": [
      "The Dirty Dozen\n",
      "The Legend of Zorro\n",
      "The Hunt for Red October\n",
      "Le Professionnel\n",
      "The Phantom of the Opera\n"
     ]
    }
   ],
   "source": [
    "r = requests.get(\"https://api.themoviedb.org/3/search/movie?api_key=423d2004dcf9da4c46b4a9f84c5f84a0\",\n",
    "                params= {\"apip_key\":\"423d2004dcf9da4c46b4a9f84c5f84a0\",\"query\":\"Inception\"})\n",
    "python = r.json()\n",
    "use = python[\"results\"][0][\"id\"]\n",
    "new = requests.get(\"https://api.themoviedb.org/3/movie/\"+str(use)+\"/similar?api_key=423d2004dcf9da4c46b4a9f84c5f84a0\",\n",
    "                     params={\"api_key\":\"423d2004dcf9da4c46b4a9f84c5f84a0\"})\n",
    "#print(new.url)\n",
    "data = new.json()\n",
    "votes=[]\n",
    "for i in data[\"results\"][:5]:\n",
    "    print(i[\"original_title\"])"
   ]
  },
  {
   "cell_type": "code",
   "execution_count": 18,
   "id": "ea16e3bf",
   "metadata": {},
   "outputs": [
    {
     "name": "stdout",
     "output_type": "stream",
     "text": [
      "aliaabhatt Aliaa08\n"
     ]
    }
   ],
   "source": [
    "import requests\n",
    "r = requests.get(\"https://api.themoviedb.org/3/search/person\",params={\"api_key\":\"423d2004dcf9da4c46b4a9f84c5f84a0\",\n",
    "                                                                      \"query\":\"Alia Bhatt\"})\n",
    "python = r.json()\n",
    "req = python[\"results\"][0][\"id\"]\n",
    "\n",
    "new = requests.get(\"https://api.themoviedb.org/3/person/\"+str(req)+\"/external_ids\",params={\"api_key\":\"423d2004dcf9da4c46b4a9f84c5f84a0\"})\n",
    "ans = new.json()\n",
    "print(ans[\"instagram_id\"],ans[\"twitter_id\"])"
   ]
  },
  {
   "cell_type": "code",
   "execution_count": 58,
   "id": "30fe76ca",
   "metadata": {},
   "outputs": [
    {
     "name": "stdout",
     "output_type": "stream",
     "text": [
      "https://api.themoviedb.org/3/person/popular?api_key=423d2004dcf9da4c46b4a9f84c5f84a0\n"
     ]
    }
   ],
   "source": [
    "import requests\n",
    "## Write your code here\n",
    "import numpy as np\n",
    "r = requests.get(\"https://api.themoviedb.org/3/person/popular\",params= {\"api_key\":\"423d2004dcf9da4c46b4a9f84c5f84a0\"})\n",
    "print(r.url)\n",
    "python = r.json()\n"
   ]
  },
  {
   "cell_type": "code",
   "execution_count": null,
   "id": "0df0dca0",
   "metadata": {},
   "outputs": [],
   "source": [
    "print(python[\"results\"][0][\"id\"])\n",
    "print(python[\"results\"][0][\"name\"],\"-\",\"US\")"
   ]
  },
  {
   "cell_type": "code",
   "execution_count": 119,
   "id": "7c927da5",
   "metadata": {},
   "outputs": [
    {
     "name": "stdout",
     "output_type": "stream",
     "text": [
      "Lt. Pete 'Maverick' Mitchell\n",
      "Ethan Hunt\n",
      "Chief John Anderton\n",
      "Maj. William 'Bill' Cage\n"
     ]
    }
   ],
   "source": [
    "r = requests.get(\"https://api.themoviedb.org/3/search/person\",params={\"api_key\":\"423d2004dcf9da4c46b4a9f84c5f84a0\",\n",
    "                                                                     \"query\":\"Tom Cruise\"})\n",
    "python = r.json()\n",
    "card = python[\"results\"][0][\"id\"]\n",
    "t = requests.get(\"https://api.themoviedb.org/3/person/\"+str(card)+\"/movie_credits\",params={\"api_key\":\"423d2004dcf9da4c46b4a9f84c5f84a0\"})\n",
    "python = t.json()\n",
    "ans = {}\n",
    "for i in python[\"cast\"]:\n",
    "    if i[\"original_title\"]==\"Top Gun\":\n",
    "        ans[i[\"original_title\"]]=ans.get(i[\"original_title\"],i[\"character\"])\n",
    "    elif i[\"original_title\"]==\"Mission: Impossible - Fallout\":\n",
    "        ans[i[\"original_title\"]]=ans.get(i[\"original_title\"],i[\"character\"])\n",
    "    elif i[\"original_title\"]==\"Minority Report\":\n",
    "        ans[i[\"original_title\"]]=ans.get(i[\"original_title\"],i[\"character\"])\n",
    "    elif i[\"original_title\"]==\"Edge of Tomorrow\":\n",
    "        ans[i[\"original_title\"]]=ans.get(i[\"original_title\"],i[\"character\"])\n",
    "    \n",
    "        \n",
    "print(ans[\"Top Gun\"])\n",
    "print(ans[\"Mission: Impossible - Fallout\"])\n",
    "print(ans[\"Minority Report\"])\n",
    "print(ans[\"Edge of Tomorrow\"])"
   ]
  },
  {
   "cell_type": "code",
   "execution_count": 127,
   "id": "291e19c8",
   "metadata": {},
   "outputs": [
    {
     "name": "stdout",
     "output_type": "stream",
     "text": [
      "75341\n",
      "Gary Coleman - Zion, Illinois, USA\n"
     ]
    }
   ],
   "source": [
    "import requests\n",
    "r = requests.get(\"https://api.themoviedb.org/3/person/popular\",params= {\"api_key\":\"423d2004dcf9da4c46b4a9f84c5f84a0\"})\n",
    "#print(r.url)\n",
    "python = r.json()\n",
    "use = python[\"results\"][0][\"id\"]\n",
    "r_1 = requests.get(\"https://api.themoviedb.org/3/person/\"+str(use),params= {\"api_key\":\"423d2004dcf9da4c46b4a9f84c5f84a0\"})\n",
    "print(use)\n",
    "print(python[\"results\"][0][\"name\"],\"-\",r_1.json()[\"place_of_birth\"])"
   ]
  },
  {
   "cell_type": "code",
   "execution_count": 55,
   "id": "7bf8d3a2",
   "metadata": {},
   "outputs": [
    {
     "name": "stdout",
     "output_type": "stream",
     "text": [
      "<Response [200]>\n",
      "https://api.themoviedb.org/3/search/person?api_key=423d2004dcf9da4c46b4a9f84c5f84a0&query=Gary+Coleman\n"
     ]
    }
   ],
   "source": [
    "r = requests.get(\"https://api.themoviedb.org/3/search/person\",params= {\"api_key\":\"423d2004dcf9da4c46b4a9f84c5f84a0\",\n",
    "                                                                      \"query\":\"Gary Coleman\"})\n",
    "print(r)\n",
    "print(r.url)"
   ]
  },
  {
   "cell_type": "code",
   "execution_count": 117,
   "id": "a781503e",
   "metadata": {},
   "outputs": [
    {
     "name": "stdout",
     "output_type": "stream",
     "text": [
      "Six young people from New York City, on their own and struggling to survive in the real world, find the companionship, comfort and support they get from each other to be the perfect antidote to the pressures of life.\n",
      "Friends is a short-lived kids-oriented drama that aired in the spring of 1979. The series, which was produced by Aaron Spelling and aired on ABC, starred Charlie Aiken, Jill Whelan, and Jarrod Johnson as three Southern Californian 11-year-olds. Karen Morrow also appeared. Only five one-hour episodes were produced before the series was cancelled.\n",
      "\n"
     ]
    }
   ],
   "source": [
    "import requests\n",
    "r = requests.get(\"https://api.themoviedb.org/3/search/tv\",params= {\"api_key\":\"423d2004dcf9da4c46b4a9f84c5f84a0\",\n",
    "                                                                      \"query\":\"FRIENDS\"})\n",
    "python = r.json()\n",
    "for i in python[\"results\"]:\n",
    "    if i[\"original_name\"]==\"Friends\":\n",
    "        print(i[\"overview\"])"
   ]
  },
  {
   "cell_type": "code",
   "execution_count": 57,
   "id": "00351dff",
   "metadata": {},
   "outputs": [
    {
     "name": "stdout",
     "output_type": "stream",
     "text": [
      "The Holographic Excitation 2012-10-25\n"
     ]
    }
   ],
   "source": [
    "import requests\n",
    "r = requests.get(\"https://api.themoviedb.org/3/search/tv\",params= {\"api_key\":\"423d2004dcf9da4c46b4a9f84c5f84a0\",\n",
    "                                                                      \"query\":\"Big Bang Theory\"})\n",
    "python = r.json()\n",
    "use = python[\"results\"][0][\"id\"]\n",
    "\n",
    "r_1 = requests.get(\"https://api.themoviedb.org/3/tv/\"+str(use)+\"/season/6\",\n",
    "                  params= {\"api_key\":\"423d2004dcf9da4c46b4a9f84c5f84a0\"})\n",
    "python = r_1.json()\n",
    "for i in python[\"episodes\"]:\n",
    "    if i[\"episode_number\"]==5:\n",
    "        print(i[\"name\"],i[\"air_date\"])"
   ]
  },
  {
   "cell_type": "code",
   "execution_count": 71,
   "id": "47378d0a",
   "metadata": {},
   "outputs": [
    {
     "name": "stdout",
     "output_type": "stream",
     "text": [
      "When you're lost in the darkness, look for the light.\n",
      "empty\n",
      "empty\n",
      "A bloody good time.\n",
      "empty\n"
     ]
    }
   ],
   "source": [
    "import requests\n",
    "\n",
    "r = requests.get(\"https://api.themoviedb.org/3/trending/tv/week\",params= {\"api_key\":\"423d2004dcf9da4c46b4a9f84c5f84a0\"})\n",
    "ids = []\n",
    "python = r.json()\n",
    "for i in python[\"results\"][:5]:\n",
    "    ids.append(i[\"id\"])\n",
    "\n",
    "for i in ids:\n",
    "    r_1 = requests.get(\"https://api.themoviedb.org/3/tv/\"+str(i),params= {\"api_key\":\"423d2004dcf9da4c46b4a9f84c5f84a0\"})\n",
    "    data = r_1.json()\n",
    "    if data[\"tagline\"]==\"\":\n",
    "        print(\"empty\")\n",
    "    else:\n",
    "        print(data[\"tagline\"])"
   ]
  },
  {
   "cell_type": "code",
   "execution_count": 96,
   "id": "3cc81df7",
   "metadata": {},
   "outputs": [
    {
     "name": "stdout",
     "output_type": "stream",
     "text": [
      "The Good Doctor\n",
      "Let's Make a Deal\n",
      "NCIS\n",
      "The Price Is Right\n",
      "Love Island\n",
      "PBS NewsHour\n",
      "The Daily Show with Trevor Noah\n",
      "Hollyoaks\n",
      "LIVE with Kelly and Ryan\n",
      "Naked News\n",
      "Pointless\n",
      "Emmerdale\n",
      "Coronation Street\n",
      "Murdoch Mysteries\n",
      "Hot Bench\n",
      "General Hospital\n",
      "Days of Our Lives\n",
      "NCIS: Hawai'i\n",
      "The View\n",
      "All American\n",
      "Ridiculousness\n",
      "The ReidOut\n",
      "People Puzzler\n",
      "Doctors\n",
      "Tamron Hall\n",
      "WWE Raw\n",
      "Australian Idol\n",
      "The Late Show with Stephen Colbert\n",
      "Australian Survivor\n",
      "Home and Away\n",
      "Fantasy Island\n",
      "Shortland Street\n",
      "EastEnders\n",
      "CBS Evening News\n",
      "The Steve Wilkos Show\n",
      "The Neighborhood\n",
      "The Bachelor\n",
      "All American: Homecoming\n",
      "Aussie Gold Hunters\n",
      "The Watchful Eye\n",
      "The People's Court\n",
      "Dr. Phil\n",
      "Street Outlaws\n",
      "Below Deck\n",
      "Panorama\n",
      "Bob Hearts Abishola\n",
      "Only Connect\n",
      "Being The Elite\n",
      "Alert: Missing Persons Unit\n",
      "Work It Out Wombats!\n",
      "Chrisley Knows Best\n",
      "Pictionary\n",
      "YOLO\n",
      "The Rachel Maddow Show\n",
      "Married at First Sight\n",
      "AEW Dark: Elevation\n",
      "Zindagi Ki Mehek\n",
      "WWE Raw Talk\n",
      "Mastermind\n",
      "Summer House\n",
      "Family Feud Canada\n",
      "Basketball Wives\n",
      "Independent Lens\n",
      "America's Got Talent: All Stars\n",
      "SAS: Who Dares Wins\n",
      "Access Hollywood\n",
      "Everyone Else Burns\n",
      "Kids Baking Championship\n",
      "Bargain Hunt\n",
      "Relative Justice\n",
      "Hornby: A Model World\n",
      "The Playboy Murders\n",
      "History's Greatest Mysteries\n",
      "Maternal\n",
      "Thomas & Friends: All Engines Go!\n",
      "Darcey & Stacey\n",
      "Death by Fame\n",
      "Ice Airport Alaska\n",
      "Missing\n",
      "Buffering\n",
      "90 Day Fiancé: After The 90 Days\n",
      "Loren & Alexei: After the 90 Days\n",
      "Down Home Fab\n",
      "Raazz Mahal\n",
      "Extreme Sisters\n",
      "Police: Night Shift 999\n",
      "Bad Boy\n",
      "Icons Unearthed: Fast & Furious\n",
      "Junior's\n",
      "Southern Hoops: A History of SEC Basketball\n",
      "Adim Farah\n",
      "Rachael Ray\n",
      "Divorce Court\n",
      "David & Annie: After the 90 Days\n",
      "The Project\n",
      "Sherri\n",
      "Big Miracles\n",
      "Master Minds\n",
      "History’s Greatest of All Time with Peyton Manning\n",
      "Better\n",
      "Countdown\n",
      "Switch\n",
      "My Name Is Reeva\n",
      "Jimmy Screens\n",
      "Molkki\n"
     ]
    }
   ],
   "source": [
    "import requests\n",
    "\n",
    "r = requests.get(\"https://api.themoviedb.org/3/tv/airing_today\",params= {\"api_key\":\"423d2004dcf9da4c46b4a9f84c5f84a0\"})\n",
    "python = r.json()\n",
    "pages = python[\"total_pages\"]\n",
    "for i in range(1,pages+1):\n",
    "    r_1 = requests.get(\"https://api.themoviedb.org/3/tv/airing_today\",params= {\"api_key\":\"423d2004dcf9da4c46b4a9f84c5f84a0\",\n",
    "                                                                               \"page\":i})\n",
    "    data = r_1.json()\n",
    "    for j in data[\"results\"]:\n",
    "        if j[\"original_language\"]==\"en\":\n",
    "            print(j[\"name\"])"
   ]
  },
  {
   "cell_type": "code",
   "execution_count": 115,
   "id": "ce1a855d",
   "metadata": {},
   "outputs": [
    {
     "name": "stdout",
     "output_type": "stream",
     "text": [
      "10 5\n"
     ]
    }
   ],
   "source": [
    "import requests\n",
    "\n",
    "r = requests.get(\"https://api.themoviedb.org/3/search/tv\",params={\"api_key\":\"423d2004dcf9da4c46b4a9f84c5f84a0\",\"query\":\"Money Heist\"})\n",
    "python = r.json()\n",
    "for i in python[\"results\"]:\n",
    "    if i[\"name\"]==\"Money Heist\":\n",
    "        ids = i[\"id\"]\n",
    "        \n",
    "r_1 = requests.get(\"https://api.themoviedb.org/3/tv/\"+str(ids)+\"/credits\",params={\"api_key\":\"423d2004dcf9da4c46b4a9f84c5f84a0\"})\n",
    "male,female=0,0\n",
    "for i in r_1.json()[\"cast\"]:\n",
    "    if i[\"gender\"]==1:\n",
    "        female+=1\n",
    "    else:\n",
    "        male+=1\n",
    "        \n",
    "print(male,female)"
   ]
  },
  {
   "cell_type": "code",
   "execution_count": 18,
   "id": "433517fd",
   "metadata": {},
   "outputs": [
    {
     "name": "stdout",
     "output_type": "stream",
     "text": [
      "yes\n"
     ]
    }
   ],
   "source": [
    "import requests\n",
    "\n",
    "r = requests.get(\"https://api.themoviedb.org/3/search/movie\",params={\"api_key\":\"423d2004dcf9da4c46b4a9f84c5f84a0\",\n",
    "                                                                     \"query\":\"Deadpool 2\"})\n",
    "python = r.json()\n",
    "ids = python[\"results\"][0][\"id\"]\n",
    "\n",
    "r_1 = requests.get(\"https://api.themoviedb.org/3/movie/\"+str(ids)+\"/credits\",params={\"api_key\":\"423d2004dcf9da4c46b4a9f84c5f84a0\"})\n",
    "count=0\n",
    "python_1 = r_1.json()\n",
    "for i in python_1[\"cast\"]:\n",
    "    if i[\"name\"]==\"James McAvoy\":\n",
    "        count+=1\n",
    "        \n",
    "if count:\n",
    "    print('yes')\n",
    "else:\n",
    "    print('no')"
   ]
  },
  {
   "cell_type": "code",
   "execution_count": 21,
   "id": "633307ca",
   "metadata": {},
   "outputs": [
    {
     "name": "stdout",
     "output_type": "stream",
     "text": [
      "yes\n"
     ]
    }
   ],
   "source": [
    "import requests\n",
    "\n",
    "r = requests.get(\"https://api.themoviedb.org/3/search/movie\",params={\"api_key\":\"423d2004dcf9da4c46b4a9f84c5f84a0\",\n",
    "                                                                     \"query\":\"Deadpool 2\"})\n",
    "python = r.json()\n",
    "ids = python[\"results\"][0][\"id\"]\n",
    "\n",
    "r_1 = requests.get(\"https://api.themoviedb.org/3/movie/\"+str(ids)+\"/credits\",params={\"api_key\":\"423d2004dcf9da4c46b4a9f84c5f84a0\"})\n",
    "count=0\n",
    "python_1 = r_1.json()\n",
    "for i in python_1[\"cast\"]:\n",
    "    if i[\"name\"]==\"James McAvoy\":\n",
    "        count+=1\n",
    "        \n",
    "if count:\n",
    "    print('yes')\n",
    "else:\n",
    "    print('no')"
   ]
  },
  {
   "cell_type": "code",
   "execution_count": 26,
   "id": "adbe3adf",
   "metadata": {},
   "outputs": [
    {
     "name": "stdout",
     "output_type": "stream",
     "text": [
      "No\n"
     ]
    }
   ],
   "source": [
    "import requests\n",
    "\n",
    "r = requests.get(\"https://api.themoviedb.org/3/search/movie\",params={\"api_key\":\"423d2004dcf9da4c46b4a9f84c5f84a0\",\n",
    "                                                                     \"query\":\"Deadpool 2\"})\n",
    "python = r.json()\n",
    "ids = python[\"results\"][0][\"id\"]\n",
    "\n",
    "r_1 = requests.get(\"https://api.themoviedb.org/3/movie/\"+str(ids)+\"/credits\",params={\"api_key\":\"423d2004dcf9da4c46b4a9f84c5f84a0\"})\n",
    "count=0\n",
    "python_1 = r_1.json()\n",
    "for i in python_1[\"cast\"]:\n",
    "    if i[\"name\"]==\"James McAvoy\":\n",
    "        char = i[\"character\"]\n",
    "        \n",
    "if \"uncredited\" in char:\n",
    "    print(\"No\")\n",
    "else:\n",
    "    print(\"Yes\")"
   ]
  },
  {
   "cell_type": "code",
   "execution_count": 47,
   "id": "d7de33c9",
   "metadata": {},
   "outputs": [
    {
     "name": "stdout",
     "output_type": "stream",
     "text": [
      "['The Godfather', 'The Shawshank Redemption', 'The Boy, the Mole, the Fox and the Horse', 'The Godfather Part II', \"Schindler's List\", '12 Angry Men', 'Puss in Boots: The Last Wish', 'The Green Mile', 'The Dark Knight', 'Pulp Fiction']\n"
     ]
    }
   ],
   "source": [
    "import requests\n",
    "\n",
    "r = requests.get(\"https://api.themoviedb.org/3/movie/top_rated\",params={\"api_key\":\"423d2004dcf9da4c46b4a9f84c5f84a0\"})\n",
    "python = r.json()\n",
    "names=[]\n",
    "count=0\n",
    "for i in python[\"results\"]:\n",
    "    if count!=10:\n",
    "        if i[\"original_language\"]==\"en\":\n",
    "            names.append(i[\"title\"])\n",
    "            count+=1\n",
    "print(names)"
   ]
  },
  {
   "cell_type": "code",
   "execution_count": 55,
   "id": "e7f997ec",
   "metadata": {},
   "outputs": [
    {
     "name": "stdout",
     "output_type": "stream",
     "text": [
      "{28: 'Action', 12: 'Adventure', 16: 'Animation', 35: 'Comedy', 80: 'Crime', 99: 'Documentary', 18: 'Drama', 10751: 'Family', 14: 'Fantasy', 36: 'History', 27: 'Horror', 10402: 'Music', 9648: 'Mystery', 10749: 'Romance', 878: 'Science Fiction', 10770: 'TV Movie', 53: 'Thriller', 10752: 'War', 37: 'Western'}\n"
     ]
    }
   ],
   "source": [
    "            \n",
    "\n",
    "print(genres)"
   ]
  },
  {
   "cell_type": "code",
   "execution_count": 75,
   "id": "1b61f3c0",
   "metadata": {},
   "outputs": [
    {
     "name": "stdout",
     "output_type": "stream",
     "text": [
      "The Godfather - Drama, Crime, \n",
      "The Shawshank Redemption - Drama, Crime, \n",
      "The Boy, the Mole, the Fox and the Horse - Animation, Family, Adventure, Fantasy, \n",
      "The Godfather Part II - Drama, Crime, \n",
      "Schindler's List - Drama, History, War, \n",
      "12 Angry Men - Drama, \n",
      "Puss in Boots: The Last Wish - Animation, Adventure, Comedy, Family, Fantasy, \n",
      "The Green Mile - Fantasy, Drama, Crime, \n",
      "The Dark Knight - Drama, Action, Crime, Thriller, \n",
      "Pulp Fiction - Thriller, Crime, \n"
     ]
    }
   ],
   "source": [
    "import requests\n",
    "\n",
    "r = requests.get(\"https://api.themoviedb.org/3/movie/top_rated\",params={\"api_key\":\"423d2004dcf9da4c46b4a9f84c5f84a0\",\n",
    "                                                                       \"language\":\"en-US\"})\n",
    "python = r.json()\n",
    "names={}\n",
    "count=0\n",
    "for i in python[\"results\"]:\n",
    "    if len(names)!=10:\n",
    "        if i[\"original_language\"]==\"en\":\n",
    "            for j in i[\"genre_ids\"]:\n",
    "                t = i['title']\n",
    "                if t in names:\n",
    "                    names[t].append(j)\n",
    "                else:\n",
    "                    names[t]=[j]\n",
    "\n",
    "r_1 = requests.get(\"https://api.themoviedb.org/3/genre/movie/list\",params={\"api_key\":\"423d2004dcf9da4c46b4a9f84c5f84a0\"})\n",
    "genres={}\n",
    "for i in r_1.json()[\"genres\"]:\n",
    "    genres[i[\"id\"]]=genres.get(i[\"id\"],i[\"name\"])\n",
    "    \n",
    "ans={}\n",
    "for i in names:\n",
    "    for j in names[i]:\n",
    "        if i in ans:\n",
    "            ans[i].append(genres[j])\n",
    "        else:\n",
    "            ans[i]=[genres[j]]\n",
    "        \n",
    "        \n",
    "for i in ans:\n",
    "    print(i, \"-\",end=\" \")\n",
    "    for j in ans[i]:\n",
    "        print(j,end=\", \")\n",
    "    print()"
   ]
  }
 ],
 "metadata": {
  "kernelspec": {
   "display_name": "Python 3 (ipykernel)",
   "language": "python",
   "name": "python3"
  },
  "language_info": {
   "codemirror_mode": {
    "name": "ipython",
    "version": 3
   },
   "file_extension": ".py",
   "mimetype": "text/x-python",
   "name": "python",
   "nbconvert_exporter": "python",
   "pygments_lexer": "ipython3",
   "version": "3.9.13"
  }
 },
 "nbformat": 4,
 "nbformat_minor": 5
}
