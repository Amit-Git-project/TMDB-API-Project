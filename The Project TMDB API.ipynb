{
 "cells": [
  {
   "cell_type": "code",
   "execution_count": 1,
   "id": "fc4b1139",
   "metadata": {},
   "outputs": [],
   "source": [
    "import requests\n",
    "import json\n",
    "import pandas as pd\n",
    "import numpy as np"
   ]
  },
  {
   "cell_type": "code",
   "execution_count": 2,
   "id": "1e3a6b2b",
   "metadata": {},
   "outputs": [],
   "source": [
    "apikey = open(\"API Key.txt\",\"r\").read()"
   ]
  },
  {
   "cell_type": "markdown",
   "id": "bde65dd3",
   "metadata": {},
   "source": [
    "#### 1. Find the 'id' of the movie \"Andhadhun\" using TMDb API."
   ]
  },
  {
   "cell_type": "code",
   "execution_count": 3,
   "id": "b407f9ee",
   "metadata": {},
   "outputs": [
    {
     "name": "stdout",
     "output_type": "stream",
     "text": [
      "534780\n"
     ]
    }
   ],
   "source": [
    "param = {\"query\":\"Andhadhun\",\"api_key\" : apikey}\n",
    "url = \"https://api.themoviedb.org/3/search/movie\"\n",
    "\n",
    "response = requests.get(url , params = param)\n",
    "print(response.json()['results'][0]['id'])"
   ]
  },
  {
   "cell_type": "markdown",
   "id": "b0b87e83",
   "metadata": {},
   "source": [
    "#### 2.Fetch the company id company 'Marvel Studios' using TMDb. Print the id."
   ]
  },
  {
   "cell_type": "code",
   "execution_count": 4,
   "id": "93184a91",
   "metadata": {},
   "outputs": [
    {
     "name": "stdout",
     "output_type": "stream",
     "text": [
      "420\n"
     ]
    }
   ],
   "source": [
    "url = \"https://api.themoviedb.org/3/search/company\"\n",
    "param = {\"query\" : \"Marvel Studios\" , \"api_key\" : apikey}\n",
    "\n",
    "response = requests.get(url, params = param)\n",
    "print(response.json()['results'][0]['id'])"
   ]
  },
  {
   "cell_type": "markdown",
   "id": "2ab38f32",
   "metadata": {},
   "source": [
    "#### 3.Find the vote count and vote average of the movie \"3 Idiots\" using the TMDb API"
   ]
  },
  {
   "cell_type": "code",
   "execution_count": 5,
   "id": "ef81fb08",
   "metadata": {},
   "outputs": [
    {
     "name": "stdout",
     "output_type": "stream",
     "text": [
      "2170 7.985\n"
     ]
    }
   ],
   "source": [
    "param = {\"query\":\"3 Idiots\", \"api_key\" : apikey}\n",
    "url = \"https://api.themoviedb.org/3/search/movie\"\n",
    "\n",
    "response = requests.get(url ,params = param)\n",
    "data = response.json()\n",
    "print(data['results'][0]['vote_count'],data['results'][0]['vote_average'])"
   ]
  },
  {
   "cell_type": "markdown",
   "id": "28445468",
   "metadata": {},
   "source": [
    "#### 4.Fetch the names of top 5 similar movies to 'Inception' from the TMDb API."
   ]
  },
  {
   "cell_type": "code",
   "execution_count": 6,
   "id": "fa6026d6",
   "metadata": {},
   "outputs": [
    {
     "name": "stdout",
     "output_type": "stream",
     "text": [
      "The Ewok Adventure\n",
      "The Karate Kid\n",
      "Open Your Eyes\n",
      "Vanilla Sky\n",
      "The 13th Warrior\n"
     ]
    }
   ],
   "source": [
    "param = {\"query\":\"Inception\", \"api_key\" : apikey}\n",
    "url = f\"https://api.themoviedb.org/3/search/movie\"\n",
    "\n",
    "response = requests.get(url ,params = param)\n",
    "ids = response.json()['results'][0]['id']\n",
    "\n",
    "url = f\"https://api.themoviedb.org/3/movie/{ids}/similar\"\n",
    "response = requests.get(url,params={\"api_key\":apikey})\n",
    "for i in response.json()['results'][:5]:\n",
    "    print(i['title'])"
   ]
  },
  {
   "cell_type": "markdown",
   "id": "d50d2b6a",
   "metadata": {},
   "source": [
    "#### 5 Fetch the top rated english movies in the US region using the TMDb API. From the result, print the first 10 movies which have original language as english. Also print their genres."
   ]
  },
  {
   "cell_type": "code",
   "execution_count": 7,
   "id": "e30aeba5",
   "metadata": {},
   "outputs": [
    {
     "name": "stdout",
     "output_type": "stream",
     "text": [
      "The Godfather - Drama, Crime, \n",
      "The Shawshank Redemption - Drama, Crime, \n",
      "The Godfather Part II - Drama, Crime, \n",
      "Schindler's List - Drama, History, War, \n",
      "12 Angry Men - Drama, \n",
      "The Dark Knight - Drama, Action, Crime, Thriller, \n",
      "The Green Mile - Fantasy, Drama, Crime, \n",
      "Pulp Fiction - Thriller, Crime, \n",
      "Forrest Gump - Comedy, Drama, Romance, \n",
      "The Lord of the Rings: The Return of the King - Adventure, Fantasy, Action, \n"
     ]
    }
   ],
   "source": [
    "param = {\"api_key\" : apikey}\n",
    "url = \"https://api.themoviedb.org/3/movie/top_rated\"\n",
    "\n",
    "response = requests.get(url,params=param)\n",
    "df = pd.DataFrame(response.json()['results'])\n",
    "df = df[df['original_language']=='en']\n",
    "\n",
    "movies = df['title'].head(10)\n",
    "genre_id = df['genre_ids'].head(10)\n",
    "\n",
    "genre_url = \"https://api.themoviedb.org/3/genre/movie/list\"\n",
    "response = requests.get(genre_url,params=param)\n",
    "genrelist = response.json()['genres']\n",
    "genredict = {}\n",
    "for i in genrelist:\n",
    "    genredict[i['id']] = i['name']\n",
    "    \n",
    "for movie,ids in zip(movies,genre_id):\n",
    "    print(movie, \"-\", end=\" \")\n",
    "    for i in ids:\n",
    "        print(genredict[i], end = \", \")\n",
    "    print()"
   ]
  },
  {
   "cell_type": "markdown",
   "id": "ad5774a4",
   "metadata": {},
   "source": [
    "#### 6. Find the name and birthplace of the present most popular person according to TMDb API.`"
   ]
  },
  {
   "cell_type": "code",
   "execution_count": 8,
   "id": "004b433d",
   "metadata": {},
   "outputs": [
    {
     "name": "stdout",
     "output_type": "stream",
     "text": [
      "976\n",
      "Jason Statham - Shirebrook, Derbyshire, England, UK\n"
     ]
    }
   ],
   "source": [
    "param = {\"api_key\" : apikey}\n",
    "url = \"https://api.themoviedb.org/3/person/popular\"\n",
    "response = requests.get(url,params=param)\n",
    "data = response.json()['results']\n",
    "\n",
    "ids = data[0]['id']\n",
    "name = data[0]['name']\n",
    "newurl = f\"https://api.themoviedb.org/3/person/{ids}\"\n",
    "response = requests.get(newurl,params=param)\n",
    "birth = response.json()['place_of_birth']\n",
    "print(ids)\n",
    "print(name,\"-\",birth)"
   ]
  },
  {
   "cell_type": "markdown",
   "id": "b81e6d4e",
   "metadata": {},
   "source": [
    "#### 7. Fetch the Instagram and Twitter handle of Indian Actress \"Alia Bhatt\" from the TMDb API."
   ]
  },
  {
   "cell_type": "code",
   "execution_count": 9,
   "id": "9e37dac4",
   "metadata": {},
   "outputs": [
    {
     "name": "stdout",
     "output_type": "stream",
     "text": [
      "aliaabhatt Aliaa08\n"
     ]
    }
   ],
   "source": [
    "name = \"Alia Bhatt\"\n",
    "param = {\"api_key\" : apikey , \"query\":name}\n",
    "url = \"https://api.themoviedb.org/3/search/person\"\n",
    "response = requests.get(url,params=param)\n",
    "data = response.json()\n",
    "\n",
    "ids = data['results'][0]['id']\n",
    "\n",
    "url = f\"https://api.themoviedb.org/3/person/{ids}/external_ids\"\n",
    "param = {\"api_key\" : apikey}\n",
    "response = requests.get(url,params=param)\n",
    "\n",
    "print(response.json()['instagram_id'],response.json()['twitter_id'])"
   ]
  },
  {
   "cell_type": "markdown",
   "id": "22c590f5",
   "metadata": {},
   "source": [
    "#### 8. Fetch the names of the character played by Tom Cruise in the movies:\n",
    "1. Top Gun\n",
    "2. Mission: Impossible - Fallout\n",
    "3. Minority Report\n",
    "4. Edge of Tomorrow"
   ]
  },
  {
   "cell_type": "code",
   "execution_count": 10,
   "id": "215d57a1",
   "metadata": {},
   "outputs": [
    {
     "name": "stdout",
     "output_type": "stream",
     "text": [
      "Lt. Pete 'Maverick' Mitchell\n",
      "Ethan Hunt\n",
      "Chief John Anderton\n",
      "Maj. William 'Bill' Cage\n"
     ]
    }
   ],
   "source": [
    "Givenmovies = [\"Top Gun\",\"Mission: Impossible - Fallout\", \"Minority Report\" , \"Edge of Tomorrow\"]\n",
    "actor = \"Tom Cruise\"\n",
    "\n",
    "param = {\"api_key\" : apikey , \"query\":actor}\n",
    "url = \"https://api.themoviedb.org/3/search/person\"\n",
    "response = requests.get(url,params=param)\n",
    "ids = response.json()['results'][0]['id']\n",
    "\n",
    "param = {\"api_key\" : apikey}\n",
    "url = f\"https://api.themoviedb.org/3/person/{ids}/movie_credits\"\n",
    "response = requests.get(url,params=param)\n",
    "data = response.json()['cast']\n",
    "\n",
    "df = pd.DataFrame(data)\n",
    "df = df[df['original_title'].isin(Givenmovies)]\n",
    "\n",
    "df = df[['original_title','character']]\n",
    "\n",
    "moviedict = df.set_index('original_title').to_dict()['character']\n",
    "for i in Givenmovies:\n",
    "    if i in moviedict:\n",
    "        print(moviedict[i])"
   ]
  },
  {
   "cell_type": "markdown",
   "id": "f0b0f224",
   "metadata": {},
   "source": [
    "#### 9. Did James McAvoy play a role in the movie Deadpool 2. Print Yes or No."
   ]
  },
  {
   "cell_type": "code",
   "execution_count": 32,
   "id": "bf97d7f6",
   "metadata": {},
   "outputs": [
    {
     "name": "stdout",
     "output_type": "stream",
     "text": [
      "Yes\n"
     ]
    }
   ],
   "source": [
    "name = \"James McAvoy\"\n",
    "movie = \"Deadpool 2\"\n",
    "\n",
    "personurl = \"https://api.themoviedb.org/3/search/person\"\n",
    "param = {\"api_key\" : apikey, \"query\":name}\n",
    "response = requests.get(personurl,params=param)\n",
    "data = response.json()\n",
    "\n",
    "ids = data['results'][0]['id']\n",
    "\n",
    "url = f\"https://api.themoviedb.org/3/person/{ids}/movie_credits\"\n",
    "param = {\"api_key\" : apikey}\n",
    "response = requests.get(url,params=param)\n",
    "data = response.json()\n",
    "\n",
    "df = pd.DataFrame(data['cast'])\n",
    "\n",
    "if len(df[df['original_title'].str.contains(movie)]):\n",
    "    print('Yes')\n",
    "else:\n",
    "    print('No')"
   ]
  },
  {
   "cell_type": "markdown",
   "id": "e589fe17",
   "metadata": {},
   "source": [
    "#### 11. Using the result obtained in previous question, find out if James McAvoy was credited for his role in movie Deadpool 2. Print Yes or No."
   ]
  },
  {
   "cell_type": "code",
   "execution_count": 50,
   "id": "d0e8ee20",
   "metadata": {},
   "outputs": [
    {
     "name": "stdout",
     "output_type": "stream",
     "text": [
      "No\n"
     ]
    }
   ],
   "source": [
    "name = \"James McAvoy\"\n",
    "movie = \"Deadpool 2\"\n",
    "\n",
    "personurl = \"https://api.themoviedb.org/3/search/person\"\n",
    "param = {\"api_key\" : apikey, \"query\":name}\n",
    "response = requests.get(personurl,params=param)\n",
    "data = response.json()\n",
    "\n",
    "ids = data['results'][0]['id']\n",
    "\n",
    "url = f\"https://api.themoviedb.org/3/person/{ids}/movie_credits\"\n",
    "param = {\"api_key\" : apikey}\n",
    "response = requests.get(url,params=param)\n",
    "data = response.json()\n",
    "\n",
    "df = pd.DataFrame(data['cast'])\n",
    "\n",
    "newdf = df[df['original_title'].str.contains(movie)]\n",
    "\n",
    "check_credit = newdf['character'].str.contains('uncredited').values[0]\n",
    "if check_credit:\n",
    "    print('No')\n",
    "else:\n",
    "    print('Yes')"
   ]
  },
  {
   "cell_type": "markdown",
   "id": "776900c0",
   "metadata": {},
   "source": [
    "#### 11. Fetch the overview of the TV Show \"FRIENDS\" using TMDb API."
   ]
  },
  {
   "cell_type": "code",
   "execution_count": 56,
   "id": "f30eb102",
   "metadata": {},
   "outputs": [
    {
     "name": "stdout",
     "output_type": "stream",
     "text": [
      "Six young people from New York City, on their own and struggling to survive in the real world, find the companionship, comfort and support they get from each other to be the perfect antidote to the pressures of life.\n"
     ]
    }
   ],
   "source": [
    "TVshow = \"FRIENDS\"\n",
    "url = \"https://api.themoviedb.org/3/search/tv\"\n",
    "param = {\"api_key\" : apikey , \"query\":TVshow}\n",
    "response = requests.get(url,params=param)\n",
    "data = response.json()\n",
    "print(data['results'][0]['overview'])"
   ]
  },
  {
   "cell_type": "markdown",
   "id": "63cb777a",
   "metadata": {},
   "source": [
    "#### 12. Fetch the name and air date of S06E05 of the TV Show 'The Big Bang Theory' from TMDb API."
   ]
  },
  {
   "cell_type": "code",
   "execution_count": 91,
   "id": "54c74ca9",
   "metadata": {},
   "outputs": [
    {
     "name": "stdout",
     "output_type": "stream",
     "text": [
      "The Holographic Excitation - 2012-10-25\n"
     ]
    }
   ],
   "source": [
    "TVShow = 'The Big Bang Theory'\n",
    "url = \"https://api.themoviedb.org/3/search/tv\"\n",
    "param = {\"api_key\" : apikey , \"query\":TVShow}\n",
    "response = requests.get(url,params=param)\n",
    "data = response.json()\n",
    "\n",
    "ids = data['results'][0]['id']\n",
    "\n",
    "tofind = \"S06E05\"\n",
    "url = f\"https://api.themoviedb.org/3/tv/{ids}/season/{6}\"\n",
    "response = requests.get(url,params={\"api_key\":apikey})\n",
    "data = response.json()\n",
    "\n",
    "df = pd.DataFrame(data['episodes'])\n",
    "df = df[df['episode_number']==5]\n",
    "print(df['name'].values[0],'-',df['air_date'].values[0])"
   ]
  },
  {
   "cell_type": "markdown",
   "id": "22683b3b",
   "metadata": {},
   "source": [
    "#### 13. Fetch the trending TV Shows for the week from the TMDb API and print the taglines of the top 5 shows. If there is no tagline, print 'Empty' instead"
   ]
  },
  {
   "cell_type": "code",
   "execution_count": 93,
   "id": "96c15efe",
   "metadata": {},
   "outputs": [
    {
     "name": "stdout",
     "output_type": "stream",
     "text": [
      "Loki's time has come.\n",
      "Empty\n",
      "She's coming for them all.\n",
      "Set sail for One Piece!\n",
      "Empty\n"
     ]
    }
   ],
   "source": [
    "import requests\n",
    "## Write your code here\n",
    "time_window = 'week'\n",
    "url = f\"https://api.themoviedb.org/3/trending/tv/{time_window}\"\n",
    "param = {\"api_key\":apikey}\n",
    "response = requests.get(url,params=param)\n",
    "data = response.json()\n",
    "\n",
    "ids = []\n",
    "for i in data['results'][:5]:\n",
    "    ids.append(i['id'])\n",
    "    \n",
    "for i in ids:\n",
    "    url = f\"https://api.themoviedb.org/3/tv/{i}\"\n",
    "    response = requests.get(url,params=param)\n",
    "    data = response.json()\n",
    "    tag = data['tagline']\n",
    "    if tag=='':\n",
    "        print(\"Empty\")\n",
    "    else:\n",
    "        print(tag)   "
   ]
  },
  {
   "cell_type": "markdown",
   "id": "21ccf849",
   "metadata": {},
   "source": [
    "#### 14. Print the names of all the TV shows to be aired today whose original language is english."
   ]
  },
  {
   "cell_type": "code",
   "execution_count": 106,
   "id": "255fbbaa",
   "metadata": {},
   "outputs": [
    {
     "name": "stdout",
     "output_type": "stream",
     "text": [
      "The Late Show with Stephen Colbert\n",
      "The Daily Show\n",
      "Dramatic Self-Help Strategy\n",
      "WWE Raw\n",
      "The Price Is Right\n",
      "Murdoch Mysteries\n",
      "Have I Got a Bit More News for You\n",
      "Around the Horn\n",
      "Hollyoaks\n",
      "Have You Been Paying Attention?\n",
      "Richard Osman's House of Games\n",
      "Emmerdale\n",
      "Let's Make a Deal\n",
      "PBS NewsHour\n",
      "EastEnders\n",
      "Jimmy Kimmel Live!\n",
      "Home and Away\n",
      "The Block\n",
      "The Voice\n",
      "House Hunters\n",
      "Coronation Street\n",
      "Doctors\n",
      "General Hospital\n",
      "Ridiculousness\n",
      "The Irrational\n",
      "Days of Our Lives\n",
      "Being The Elite\n",
      "Australian Story\n",
      "Naked News\n",
      "CBS Evening News\n",
      "Big Brother: Late and Live\n",
      "The Masked Singer Australia\n",
      "The Long Shadow\n",
      "Neighbours\n",
      "WWE Raw Talk\n",
      "Harry Wild\n",
      "Fear Thy Neighbor\n",
      "Only Connect\n",
      "Shortland Street\n",
      "Princess Power\n",
      "90 Day Fiancé: Pillow Talk\n",
      "Below Deck Mediterranean\n",
      "University Challenge\n",
      "Special Forces: World's Toughest Test\n",
      "High Stakes Poker\n",
      "Richard Hammond's Workshop\n",
      "Halloween Baking Championship\n",
      "The Young and the Restless\n",
      "Mastermind\n",
      "Highway Thru Hell\n",
      "Master Minds\n",
      "Four in a Bed\n",
      "Kitchen Nightmares\n",
      "FBoy Island\n",
      "90 Day Fiancé: The Other Way\n",
      "World War II: Secrets from Above\n",
      "Fishtank\n",
      "Killer at the Crime Scene\n",
      "The Big Bake: Holiday\n",
      "Basketball Wives\n",
      "MLP MYM\n",
      "Big Brother: Live Stream\n",
      "Scott's Vacation House Rules\n",
      "The Great House Giveaway\n",
      "90 Day: The Last Resort\n",
      "Union with David Olusoga\n",
      "Four Corners\n",
      "Celebrity Treasure Island\n",
      "Halloween Cookie Challenge\n",
      "Basketball Wives: Orlando\n",
      "Tough Love with Hilary Farr\n",
      "Tribunal Justice\n",
      "PJ Masks: Power Heroes\n",
      "The Football Academy\n",
      "Zindagi Ki Mehek\n",
      "This Farming Life\n",
      "CrimeDoor TV\n",
      "Leijonan Luola Suomi\n",
      "Supertato\n",
      "Mae Pu Priao\n",
      "Post Pandemic\n",
      "Studio C\n",
      "Switch\n",
      "Big Brother\n",
      "Acting Good\n",
      "Help! We Bought A Village\n",
      "iCrime with Elizabeth Vargas\n",
      "Where We Call Home\n",
      "Love In The Country\n",
      "Jamie's 5 Ingredient Meals\n",
      "The Motorway\n",
      "Britain's Greatest Ghost Stories\n",
      "The Casketeers\n",
      "Loteria Loca\n",
      "Gora\n",
      "Wales' Home of the Year\n",
      "Police: Night Shift 999\n",
      "The Great Antiques Challenge\n"
     ]
    }
   ],
   "source": [
    "url = \"https://api.themoviedb.org/3/tv/airing_today\"\n",
    "param = {\"api_key\":apikey}\n",
    "response = requests.get(url,params=param)\n",
    "data =  response.json()\n",
    "\n",
    "pages = data['total_pages']\n",
    "for i in range(1,pages+1):\n",
    "    url = \"https://api.themoviedb.org/3/tv/airing_today\"\n",
    "    param = {\"api_key\":apikey,\"page\":i}\n",
    "    response = requests.get(url,params=param)\n",
    "    data = response.json()\n",
    "    for i in data['results']:\n",
    "        if i['original_language']=='en':\n",
    "            print(i['name'])"
   ]
  },
  {
   "cell_type": "markdown",
   "id": "568d10b5",
   "metadata": {},
   "source": [
    "#### 15. Count the number of males and females in the cast of \"Money Heist\" using the TMDb API.\n",
    "Print the count of male and female space separated.\n",
    "male_count female_count"
   ]
  },
  {
   "cell_type": "code",
   "execution_count": 128,
   "id": "3b5bf84d",
   "metadata": {},
   "outputs": [
    {
     "name": "stdout",
     "output_type": "stream",
     "text": [
      "10 5\n"
     ]
    }
   ],
   "source": [
    "cast = \"Money Heist\"\n",
    "url = \"https://api.themoviedb.org/3/search/tv\"\n",
    "param = {\"api_key\":apikey , \"query\":cast}\n",
    "response = requests.get(url,params=param)\n",
    "data = response.json()\n",
    "\n",
    "ids = data['results'][0]['id']\n",
    "\n",
    "TVurl = f\"https://api.themoviedb.org/3/tv/{ids}/credits\"\n",
    "response = requests.get(TVurl,params={\"api_key\":apikey})\n",
    "data = response.json()\n",
    "\n",
    "df = pd.DataFrame(data['cast'])\n",
    "df = df['gender']\n",
    "\n",
    "print(*df.value_counts().values)"
   ]
  }
 ],
 "metadata": {
  "kernelspec": {
   "display_name": "Python 3 (ipykernel)",
   "language": "python",
   "name": "python3"
  },
  "language_info": {
   "codemirror_mode": {
    "name": "ipython",
    "version": 3
   },
   "file_extension": ".py",
   "mimetype": "text/x-python",
   "name": "python",
   "nbconvert_exporter": "python",
   "pygments_lexer": "ipython3",
   "version": "3.9.13"
  }
 },
 "nbformat": 4,
 "nbformat_minor": 5
}
